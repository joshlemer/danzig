{
 "cells": [
  {
   "cell_type": "code",
   "execution_count": 66,
   "metadata": {},
   "outputs": [
    {
     "name": "stdout",
     "output_type": "stream",
     "text": [
      "Successfully connected!"
     ]
    }
   ],
   "source": [
    "/connect localhost:5555"
   ]
  },
  {
   "cell_type": "code",
   "execution_count": 190,
   "metadata": {},
   "outputs": [
    {
     "data": {
      "application/octet-stream": null,
      "text/iclojure-html": [
       "<ul><li class='misc'>nil</ul>"
      ],
      "text/plain": [
       "nil\n"
      ]
     },
     "execution_count": 190,
     "metadata": {},
     "output_type": "execute_result"
    }
   ],
   "source": [
    "(ns tmp\n",
    "    (:require [taoensso.encore :as e]\n",
    "              [ribelo.wombat.io :as wio]\n",
    "              [ribelo.wombat.plot :as plt]\n",
    "              [ribelo.wombat.plot.echarts :as echarts]\n",
    "              [hiccup.core :refer [html]]\n",
    "              [clojure.data.codec.base64 :as b64]\n",
    "              ))"
   ]
  },
  {
   "cell_type": "code",
   "execution_count": 173,
   "metadata": {},
   "outputs": [
    {
     "ename": "Oops",
     "evalue": "",
     "output_type": "error",
     "traceback": [
      "Exception while doing something unexpected.",
      "\u001b[31m#error\u001b[m\n  \u001b[2m{\u001b[22m\u001b[36m:via\u001b[m \u001b[2m[\u001b[22m\u001b[2m{\u001b[22m\u001b[36m:type\u001b[m clojure.lang.Compiler$CompilerException\u001b[2m,\u001b[22m\n          \u001b[36m:message\u001b[m \"Syntax error compiling var at (unrepl-reader-7001:108:1).\"\u001b[2m,\u001b[22m\n          \u001b[36m:data\u001b[m \u001b[2m{\u001b[22m\u001b[36m:clojure.error/phase\u001b[m \u001b[36m:compile-syntax-check\u001b[m\u001b[2m,\u001b[22m\n                 \u001b[36m:clojure.error/line\u001b[m 108\u001b[2m,\u001b[22m \u001b[36m:clojure.error/column\u001b[m 1\u001b[2m,\u001b[22m\n                 \u001b[36m:clojure.error/source\u001b[m \"unrepl-reader-7001\"\u001b[2m,\u001b[22m\n                 \u001b[36m:clojure.error/symbol\u001b[m var\u001b[2m}\u001b[22m\u001b[2m,\u001b[22m\n          \u001b[36m:at\u001b[m \u001b[2m[\u001b[22mclojure.lang.Compiler analyzeSeq \"Compiler.java\" 7114\u001b[2m]\u001b[22m\u001b[2m}\u001b[22m\n         \u001b[2m{\u001b[22m\u001b[36m:type\u001b[m java.lang.RuntimeException\u001b[2m,\u001b[22m\n          \u001b[36m:message\u001b[m \"Unable to resolve var: unrepl/*string-length* in this context\"\u001b[2m,\u001b[22m\n          \u001b[36m:at\u001b[m \u001b[2m[\u001b[22mclojure.lang.Util runtimeException \"Util.java\" 221\u001b[2m]\u001b[22m\u001b[2m}\u001b[22m\u001b[2m]\u001b[22m\u001b[2m,\u001b[22m\n   \u001b[36m:trace\u001b[m \u001b[2m[\u001b[22m\u001b[2m[\u001b[22mclojure.lang.Util runtimeException \"Util.java\" 221\u001b[2m]\u001b[22m\n           \u001b[2m[\u001b[22mclojure.lang.Compiler$TheVarExpr$Parser parse \"Compiler.java\" 720\u001b[2m]\u001b[22m\n           \u001b[2m[\u001b[22mclojure.lang.Compiler analyzeSeq \"Compiler.java\" 7106\u001b[2m]\u001b[22m\n           \u001b[2m[\u001b[22mclojure.lang.Compiler analyze \"Compiler.java\" 6789\u001b[2m]\u001b[22m\n           \u001b[2m[\u001b[22mclojure.lang.Compiler analyze \"Compiler.java\" 6745\u001b[2m]\u001b[22m\n           \u001b[2m[\u001b[22mclojure.lang.Compiler$BodyExpr$Parser parse \"Compiler.java\" 6120\u001b[2m]\u001b[22m\n           \u001b[2m[\u001b[22mclojure.lang.Compiler$FnMethod parse \"Compiler.java\" 5467\u001b[2m]\u001b[22m\n           \u001b[2m[\u001b[22mclojure.lang.Compiler$FnExpr parse \u001b[4m/93\u001b[m\u001b[2m]\u001b[22m \u001b[4m/94\u001b[m\u001b[2m]\u001b[22m\u001b[2m,\u001b[22m\n   \u001b[4m/95\u001b[m\u001b[2m}\u001b[22m\n"
     ]
    }
   ],
   "source": [
    "#'unrepl/*string-length*"
   ]
  },
  {
   "cell_type": "code",
   "execution_count": 106,
   "metadata": {},
   "outputs": [
    {
     "data": {
      "text/iclojure-html": [
       "<ul><li class=var>#'tmp/code</ul>"
      ],
      "text/plain": [
       "#'tmp/code\n"
      ]
     },
     "execution_count": 106,
     "metadata": {},
     "output_type": "execute_result"
    }
   ],
   "source": [
    "(def code \"echarts = require(['https://cdnjs.cloudflare.com/ajax/libs/echarts/4.1.0/echarts-en.js'])\")"
   ]
  },
  {
   "cell_type": "code",
   "execution_count": 107,
   "metadata": {
    "scrolled": true
   },
   "outputs": [
    {
     "data": {
      "text/iclojure-html": [
       "<ul><li class=var>#'tmp/tmp-html</ul>"
      ],
      "text/plain": [
       "#'tmp/tmp-html\n"
      ]
     },
     "execution_count": 107,
     "metadata": {},
     "output_type": "execute_result"
    }
   ],
   "source": [
    "(def tmp-html (html [:div \n",
    "                     [:div \"sex1\"]\n",
    ";;                      [:script \"alert('1')\"]\n",
    "                     [:script code]\n",
    ";;                      [:script \"alert('2')\"]\n",
    "                     [:div \"sex2\"]]))"
   ]
  },
  {
   "cell_type": "code",
   "execution_count": 110,
   "metadata": {},
   "outputs": [
    {
     "name": "stdout",
     "output_type": "stream",
     "text": [
      "<div><div>sex1</div><script>require(['https://cdnjs.cloudflare.com/ajax/libs/echarts/4.1.0/echarts-en.js'])</script><div>sex2</div></div>\n"
     ]
    },
    {
     "data": {
      "application/octet-stream": null,
      "text/iclojure-html": [
       "<ul><li class='misc'>nil</ul>"
      ],
      "text/plain": [
       "nil\n"
      ]
     },
     "execution_count": 110,
     "metadata": {},
     "output_type": "execute_result"
    }
   ],
   "source": [
    "(println tmp-html)"
   ]
  },
  {
   "cell_type": "code",
   "execution_count": 200,
   "metadata": {},
   "outputs": [
    {
     "ename": "Oops",
     "evalue": "",
     "output_type": "error",
     "traceback": [
      "Exception while doing something unexpected.",
      "\u001b[31m#error\u001b[m\n  \u001b[2m{\u001b[22m\u001b[36m:via\u001b[m \u001b[2m[\u001b[22m\u001b[2m{\u001b[22m\u001b[36m:type\u001b[m clojure.lang.Compiler$CompilerException\u001b[2m,\u001b[22m\n          \u001b[36m:message\u001b[m \"Syntax error compiling fn* at (unrepl-reader-7001:135:1).\"\u001b[2m,\u001b[22m\n          \u001b[36m:data\u001b[m \u001b[2m{\u001b[22m\u001b[36m:clojure.error/phase\u001b[m \u001b[36m:compile-syntax-check\u001b[m\u001b[2m,\u001b[22m\n                 \u001b[36m:clojure.error/line\u001b[m 135\u001b[2m,\u001b[22m \u001b[36m:clojure.error/column\u001b[m 1\u001b[2m,\u001b[22m\n                 \u001b[36m:clojure.error/source\u001b[m \"unrepl-reader-7001\"\u001b[2m,\u001b[22m\n                 \u001b[36m:clojure.error/symbol\u001b[m fn*\u001b[2m}\u001b[22m\u001b[2m,\u001b[22m\n          \u001b[36m:at\u001b[m \u001b[2m[\u001b[22mclojure.lang.Compiler analyzeSeq \"Compiler.java\" 7114\u001b[2m]\u001b[22m\u001b[2m}\u001b[22m\n         \u001b[2m{\u001b[22m\u001b[36m:type\u001b[m java.lang.RuntimeException\u001b[2m,\u001b[22m\n          \u001b[36m:message\u001b[m\n            \"Can't embed object in code, maybe print-dup not defined: clojure.lang.TaggedLite\"\u001b[4m/131\u001b[m\u001b[2m,\u001b[22m\n          \u001b[36m:at\u001b[m \u001b[2m[\u001b[22mclojure.lang.Util runtimeException \"Util.java\" 221\u001b[2m]\u001b[22m\u001b[2m}\u001b[22m\u001b[2m]\u001b[22m\u001b[2m,\u001b[22m\n   \u001b[36m:trace\u001b[m \u001b[2m[\u001b[22m\u001b[2m[\u001b[22mclojure.lang.Util runtimeException \"Util.java\" 221\u001b[2m]\u001b[22m\n           \u001b[2m[\u001b[22mclojure.lang.Compiler$ObjExpr emitValue \"Compiler.java\" 4893\u001b[2m]\u001b[22m\n           \u001b[2m[\u001b[22mclojure.lang.Compiler$ObjExpr\n            emitListAsObjectArray \"Compiler.java\" 4704\u001b[2m]\u001b[22m\n           \u001b[2m[\u001b[22mclojure.lang.Compiler$ObjExpr emitValue \"Compiler.java\" 4835\u001b[2m]\u001b[22m\n           \u001b[2m[\u001b[22mclojure.lang.Compiler$ObjExpr emitConstants \"Compiler.java\" 4934\u001b[2m]\u001b[22m\n           \u001b[2m[\u001b[22mclojure.lang.Compiler$ObjExpr compile \"Compiler.java\" 4612\u001b[2m]\u001b[22m\n           \u001b[2m[\u001b[22mclojure.lang.Compiler$FnExpr parse \"Compiler.java\" 4106\u001b[2m]\u001b[22m\n           \u001b[2m[\u001b[22mclojure.lang.Compiler \u001b[4m/132\u001b[m\u001b[2m]\u001b[22m \u001b[4m/133\u001b[m\u001b[2m]\u001b[22m\u001b[2m,\u001b[22m\n   \u001b[4m/134\u001b[m\u001b[2m}\u001b[22m\n"
     ]
    }
   ],
   "source": [
    "#unrepl/mime {:content-type \"text/html\" \n",
    "              :content-length 1000\n",
    "              :content #unrepl/base64 (b64/encode (.getBytes \"Hello world!\"))}"
   ]
  },
  {
   "cell_type": "code",
   "execution_count": 2,
   "metadata": {},
   "outputs": [],
   "source": [
    "#unrepl/mime {:content-type \"text/html\" :content \"<div>asldkja aslkdjla alskdjla asldkjlkjlas aslkdjlkjasd asdlkjlaaaaaaaaaaaaaaaaaaaaaaaaaasd</div>\"}"
   ]
  },
  {
   "cell_type": "code",
   "execution_count": 205,
   "metadata": {},
   "outputs": [
    {
     "data": {
      "application/vnd.vegalite.v2+json": {
       "$schema": "https://vega.github.io/schema/vega-lite/v2.json",
       "data": {
        "values": [
         {
          "a": "A",
          "b": 28
         },
         {
          "a": "B",
          "b": 55
         },
         {
          "a": "C",
          "b": 43
         },
         {
          "a": "D",
          "b": 91
         },
         {
          "a": "E",
          "b": 81
         },
         {
          "a": "F",
          "b": 53
         },
         {
          "a": "G",
          "b": 19
         },
         {
          "a": "H",
          "b": 87
         },
         {
          "a": "I",
          "b": 52
         }
        ]
       },
       "description": "A simple bar chart with embedded data.",
       "encoding": {
        "x": {
         "field": "a",
         "type": "ordinal"
        },
        "y": {
         "field": "b",
         "type": "quantitative"
        }
       },
       "mark": "bar"
      },
      "image/png": "[encoded data removed]",
      "text/iclojure-html": [
       "<ul><li class=taglit>#<ul><li class=symbol>unrepl/mime<li class=map>{<ul><li><ul><li class=keyword>:content-type<li class=space> <li class='string'>\"application/vnd.vegalite.v2+json\"<li class=trail>,</ul><li class=space> <li><ul><li class=keyword>:content<li class=space> <li class=map>{<ul><li><ul><li class='string'>\"$schema\"<li class=space> <li class='string'>\"https://vega.github.io/schema/vega-lite/v2.json\"<li class=trail>,</ul><li class=space> <li><ul><li class='string'>\"description\"<li class=space> <li class='string'>\"A simple bar chart with embedded data.\"<li class=trail>,</ul><li class=space> <li><ul><li class='string'>\"data\"<li class=space> <li class=map>{<ul><li><ul><li class='string'>\"values\"<li class=space> <li class=vector>[<ul><li class=map>{<ul><li><ul><li class='string'>\"a\"<li class=space> <li class='string'>\"A\"<li class=trail>,</ul><li class=space> <li><ul><li class='string'>\"b\"<li class=space> <li class='misc'>28</ul><li class=trail>}</ul><li class=space> <li class=map>{<ul><li><ul><li class='string'>\"a\"<li class=space> <li class='string'>\"B\"<li class=trail>,</ul><li class=space> <li><ul><li class='string'>\"b\"<li class=space> <li class='misc'>55</ul><li class=trail>}</ul><li class=space> <li class=map>{<ul><li><ul><li class='string'>\"a\"<li class=space> <li class='string'>\"C\"<li class=trail>,</ul><li class=space> <li><ul><li class='string'>\"b\"<li class=space> <li class='misc'>43</ul><li class=trail>}</ul><li class=space> <li class=map>{<ul><li><ul><li class='string'>\"a\"<li class=space> <li class='string'>\"D\"<li class=trail>,</ul><li class=space> <li><ul><li class='string'>\"b\"<li class=space> <li class='misc'>91</ul><li class=trail>}</ul><li class=space> <li class=map>{<ul><li><ul><li class='string'>\"a\"<li class=space> <li class='string'>\"E\"<li class=trail>,</ul><li class=space> <li><ul><li class='string'>\"b\"<li class=space> <li class='misc'>81</ul><li class=trail>}</ul><li class=space> <li class=map>{<ul><li><ul><li class='string'>\"a\"<li class=space> <li class='string'>\"F\"<li class=trail>,</ul><li class=space> <li><ul><li class='string'>\"b\"<li class=space> <li class='misc'>53</ul><li class=trail>}</ul><li class=space> <li class=map>{<ul><li><ul><li class='string'>\"a\"<li class=space> <li class='string'>\"G\"<li class=trail>,</ul><li class=space> <li><ul><li class='string'>\"b\"<li class=space> <li class='misc'>19</ul><li class=trail>}</ul><li class=space> <li class=map>{<ul><li><ul><li class='string'>\"a\"<li class=space> <li class='string'>\"H\"<li class=trail>,</ul><li class=space> <li><ul><li class='string'>\"b\"<li class=space> <li class='misc'>87</ul><li class=trail>}</ul><li class=space> <li class=map>{<ul><li><ul><li class='string'>\"a\"<li class=space> <li class='string'>\"I\"<li class=trail>,</ul><li class=space> <li><ul><li class='string'>\"b\"<li class=space> <li class='misc'>52</ul><li class=trail>}</ul><li class=trail>]</ul></ul><li class=trail>}</ul><li class=trail>,</ul><li class=space> <li><ul><li class='string'>\"mark\"<li class=space> <li class='string'>\"bar\"<li class=trail>,</ul><li class=space> <li><ul><li class='string'>\"encoding\"<li class=space> <li class=map>{<ul><li><ul><li class='string'>\"x\"<li class=space> <li class=map>{<ul><li><ul><li class='string'>\"field\"<li class=space> <li class='string'>\"a\"<li class=trail>,</ul><li class=space> <li><ul><li class='string'>\"type\"<li class=space> <li class='string'>\"ordinal\"</ul><li class=trail>}</ul><li class=trail>,</ul><li class=space> <li><ul><li class='string'>\"y\"<li class=space> <li class=map>{<ul><li><ul><li class='string'>\"field\"<li class=space> <li class='string'>\"b\"<li class=trail>,</ul><li class=space> <li><ul><li class='string'>\"type\"<li class=space> <li class='string'>\"quantitative\"</ul><li class=trail>}</ul></ul><li class=trail>}</ul></ul><li class=trail>}</ul></ul><li class=trail>}</ul></ul></ul>"
      ],
      "text/plain": [
       "#unrepl/mime\n",
       "  \u001b[2m{\u001b[22m\u001b[36m:content-type\u001b[m \"application/vnd.vegalite.v2+json\"\u001b[2m,\u001b[22m\n",
       "   \u001b[36m:content\u001b[m\n",
       "     \u001b[2m{\u001b[22m\"$schema\" \"https://vega.github.io/schema/vega-lite/v2.json\"\u001b[2m,\u001b[22m\n",
       "      \"description\" \"A simple bar chart with embedded data.\"\u001b[2m,\u001b[22m\n",
       "      \"data\" \u001b[2m{\u001b[22m\"values\" \u001b[2m[\u001b[22m\u001b[2m{\u001b[22m\"a\" \"A\"\u001b[2m,\u001b[22m \"b\" 28\u001b[2m}\u001b[22m \u001b[2m{\u001b[22m\"a\" \"B\"\u001b[2m,\u001b[22m \"b\" 55\u001b[2m}\u001b[22m \u001b[2m{\u001b[22m\"a\" \"C\"\u001b[2m,\u001b[22m \"b\" 43\u001b[2m}\u001b[22m\n",
       "                        \u001b[2m{\u001b[22m\"a\" \"D\"\u001b[2m,\u001b[22m \"b\" 91\u001b[2m}\u001b[22m \u001b[2m{\u001b[22m\"a\" \"E\"\u001b[2m,\u001b[22m \"b\" 81\u001b[2m}\u001b[22m\n",
       "                        \u001b[2m{\u001b[22m\"a\" \"F\"\u001b[2m,\u001b[22m \"b\" 53\u001b[2m}\u001b[22m \u001b[2m{\u001b[22m\"a\" \"G\"\u001b[2m,\u001b[22m \"b\" 19\u001b[2m}\u001b[22m\n",
       "                        \u001b[2m{\u001b[22m\"a\" \"H\"\u001b[2m,\u001b[22m \"b\" 87\u001b[2m}\u001b[22m \u001b[2m{\u001b[22m\"a\" \"I\"\u001b[2m,\u001b[22m \"b\" 52\u001b[2m}\u001b[22m\u001b[2m]\u001b[22m\u001b[2m}\u001b[22m\u001b[2m,\u001b[22m\n",
       "      \"mark\" \"bar\"\u001b[2m,\u001b[22m \"encoding\" \u001b[2m{\u001b[22m\"x\" \u001b[2m{\u001b[22m\"field\" \"a\"\u001b[2m,\u001b[22m \"type\" \"ordinal\"\u001b[2m}\u001b[22m\u001b[2m,\u001b[22m\n",
       "                                \"y\" \u001b[2m{\u001b[22m\"field\" \"b\"\u001b[2m,\u001b[22m \"type\" \"quantitative\"\u001b[2m}\u001b[22m\u001b[2m}\u001b[22m\u001b[2m}\u001b[22m\u001b[2m}\u001b[22m\n"
      ]
     },
     "execution_count": 205,
     "metadata": {},
     "output_type": "execute_result"
    }
   ],
   "source": [
    "#unrepl/mime {:content-type \"application/vnd.vegalite.v2+json\" :content {\n",
    "        \"$schema\" \"https://vega.github.io/schema/vega-lite/v2.json\",\n",
    "        \"description\" \"A simple bar chart with embedded data.\",\n",
    "        \"data\" {\n",
    "            \"values\" [\n",
    "                {\"a\" \"A\", \"b\" 28}, {\"a\" \"B\", \"b\" 55}, {\"a\" \"C\", \"b\" 43},\n",
    "                {\"a\" \"D\", \"b\" 91}, {\"a\" \"E\", \"b\" 81}, {\"a\" \"F\", \"b\" 53},\n",
    "                {\"a\" \"G\", \"b\" 19}, {\"a\" \"H\", \"b\" 87}, {\"a\" \"I\", \"b\" 52}\n",
    "            ]\n",
    "        },\n",
    "        \"mark\" \"bar\",\n",
    "        \"encoding\" {\n",
    "            \"x\" {\"field\" \"a\", \"type\" \"ordinal\"},\n",
    "            \"y\" {\"field\" \"b\", \"type\" \"quantitative\"}\n",
    "        }}}"
   ]
  }
 ],
 "metadata": {
  "kernelspec": {
   "display_name": "IClojure",
   "language": "iclojure",
   "name": "iclojure"
  },
  "language_info": {
   "file_extension": ".clj",
   "mimetype": "text/x-clojure",
   "name": "clojure",
   "version": "1.10.0"
  }
 },
 "nbformat": 4,
 "nbformat_minor": 2
}
