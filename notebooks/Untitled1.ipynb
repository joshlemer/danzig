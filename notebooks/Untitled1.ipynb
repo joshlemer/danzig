{
 "cells": [
  {
   "cell_type": "code",
   "execution_count": 26,
   "metadata": {},
   "outputs": [
    {
     "name": "stdout",
     "output_type": "stream",
     "text": [
      "Successfully connected!"
     ]
    }
   ],
   "source": [
    "/connect localhost:5555"
   ]
  },
  {
   "cell_type": "code",
   "execution_count": 3,
   "metadata": {},
   "outputs": [
    {
     "ename": "Oops",
     "evalue": "",
     "output_type": "error",
     "traceback": [
      "Exception while doing something unexpected.",
      "\u001b[31m#error\u001b[m \u001b[2m{\u001b[22m\u001b[36m:via\u001b[m \u001b[2m[\u001b[22m\u001b[2m{\u001b[22m\u001b[36m:type\u001b[m clojure.lang.Compiler$CompilerException\u001b[2m,\u001b[22m\n               \u001b[36m:message\u001b[m \"Syntax error macroexpanding at (1:24).\"\u001b[2m,\u001b[22m\n               \u001b[36m:data\u001b[m \u001b[2m{\u001b[22m\u001b[36m:clojure.error/phase\u001b[m \u001b[36m:execution\u001b[m\u001b[2m,\u001b[22m\n                      \u001b[36m:clojure.error/line\u001b[m 1\u001b[2m,\u001b[22m \u001b[36m:clojure.error/column\u001b[m 24\u001b[2m,\u001b[22m\n                      \u001b[36m:clojure.error/source\u001b[m \"NO_SOURCE_PATH\"\u001b[2m}\u001b[22m\u001b[2m,\u001b[22m\n               \u001b[36m:at\u001b[m \u001b[2m[\u001b[22mclojure.lang.Compiler$InvokeExpr eval \"Compiler.java\" 3707\u001b[2m]\u001b[22m\u001b[2m}\u001b[22m\n              \u001b[2m{\u001b[22m\u001b[36m:type\u001b[m java.io.FileNotFoundException\u001b[2m,\u001b[22m\n               \u001b[36m:message\u001b[m \"./../deps.edn (No such file or directory)\"\u001b[2m,\u001b[22m\n               \u001b[36m:at\u001b[m \u001b[2m[\u001b[22mjava.io.FileInputStream open0 \"FileInputStream.java\" -2\u001b[2m]\u001b[22m\u001b[2m}\u001b[22m\u001b[2m]\u001b[22m\u001b[2m,\u001b[22m\n        \u001b[36m:trace\u001b[m \u001b[2m[\u001b[22m\u001b[2m[\u001b[22mjava.io.FileInputStream open0 \"FileInputStream.java\" -2\u001b[2m]\u001b[22m\n                \u001b[2m[\u001b[22mjava.io.FileInputStream open \"FileInputStream.java\" 219\u001b[2m]\u001b[22m\n                \u001b[2m[\u001b[22mjava.io.FileInputStream <init> \"FileInputStream.java\" 157\u001b[2m]\u001b[22m\n                \u001b[2m[\u001b[22mclojure.java.io$fn__11496 invokeStatic \"io.clj\" 229\u001b[2m]\u001b[22m\n                \u001b[2m[\u001b[22mclojure.java.io$fn__11496 invoke \"io.clj\" 229\u001b[2m]\u001b[22m\n                \u001b[2m[\u001b[22mclojure.java.io$fn__11409$G__11402__11416 invoke \"io.clj\" 69\u001b[2m]\u001b[22m\n                \u001b[2m[\u001b[22mclojure.java.io$fn__11508 invokeStatic \"io.clj\" 258\u001b[2m]\u001b[22m\n                \u001b[2m[\u001b[22mclojure.java.io$fn__11508 invoke \"io.clj\" 254\u001b[2m]\u001b[22m \u001b[4m/1\u001b[m\u001b[2m]\u001b[22m\u001b[2m,\u001b[22m\n        \u001b[4m/2\u001b[m\u001b[2m}\u001b[22m\n"
     ]
    }
   ],
   "source": [
    "(def deps (read-string (slurp \"./../deps.edn\")))"
   ]
  },
  {
   "cell_type": "code",
   "execution_count": null,
   "metadata": {},
   "outputs": [
    {
     "name": "stdout",
     "output_type": "stream",
     "text": [
      "[\"/home/ribelo/.m2/repository/org/clojure/data.json/0.2.6/data.json-0.2.6.jar\" \"/home/ribelo/.m2/repository/org/clojure/clojure/1.10.0/clojure-1.10.0.jar\" \"/home/ribelo/.m2/repository/net/cgrand/xforms/0.19.0/xforms-0.19.0.jar\" \"/home/ribelo/.m2/repository/org/clojure/tools.analyzer/0.6.9/tools.analyzer-0.6.9.jar\" \"/home/ribelo/.m2/repository/clojure/java-time/clojure.java-time/0.3.2/clojure.java-time-0.3.2.jar\" \"/home/ribelo/.m2/repository/org/clojure/core.specs.alpha/0.2.44/core.specs.alpha-0.2.44.jar\" \"/home/ribelo/.m2/repository/org/clojure/spec.alpha/0.2.176/spec.alpha-0.2.176.jar\" \"/home/ribelo/.m2/repository/com/taoensso/encore/2.108.1/encore-2.108.1.jar\" \"/home/ribelo/.m2/repository/org/clojure/tools.analyzer.jvm/0.7.2/tools.analyzer.jvm-0.7.2.jar\" \"/home/ribelo/.m2/repository/com/fasterxml/jackson/dataformat/jackson-dataformat-cbor/2.9.6/jackson-dataformat-cbor-2.9.6.jar\" \"/home/ribelo/.m2/repository/org/clojure/google-closure-library/0.0-20160609-f42b4a24/google-closure-library-0.0-20160609-f42b4a24.jar\" \"/home/ribelo/.m2/repository/org/clojure/clojurescript/1.9.293/clojurescript-1.9.293.jar\" \"/home/ribelo/.m2/repository/com/google/jsinterop/jsinterop-annotations/1.0.0/jsinterop-annotations-1.0.0.jar\" \"/home/ribelo/.m2/repository/com/fasterxml/jackson/core/jackson-core/2.9.6/jackson-core-2.9.6.jar\" \"/home/ribelo/.m2/repository/cheshire/cheshire/5.8.1/cheshire-5.8.1.jar\" \"/home/ribelo/.m2/repository/clj-tuple/clj-tuple/0.2.2/clj-tuple-0.2.2.jar\" \"/home/ribelo/.m2/repository/org/mozilla/rhino/1.7R5/rhino-1.7R5.jar\" \"/home/ribelo/.m2/repository/com/taoensso/truss/1.5.0/truss-1.5.0.jar\" \"/home/ribelo/.m2/repository/org/clojure/google-closure-library-third-party/0.0-20160609-f42b4a24/google-closure-library-third-party-0.0-20160609-f42b4a24.jar\" \"/home/ribelo/.m2/repository/com/google/javascript/closure-compiler-externs/v20160911/closure-compiler-externs-v20160911.jar\" \"/home/ribelo/.m2/repository/com/google/guava/guava/19.0/guava-19.0.jar\" \"/home/ribelo/.m2/repository/net/cgrand/macrovich/0.2.0/macrovich-0.2.0.jar\" \"/home/ribelo/.m2/repository/args4j/args4j/2.0.26/args4j-2.0.26.jar\" \"/home/ribelo/.m2/repository/hiccup/hiccup/1.0.5/hiccup-1.0.5.jar\" \"/home/ribelo/.m2/repository/tigris/tigris/0.1.1/tigris-0.1.1.jar\" \"/home/ribelo/.m2/repository/org/clojure/tools.reader/1.3.2/tools.reader-1.3.2.jar\" \"/home/ribelo/.m2/repository/com/google/javascript/closure-compiler-unshaded/v20160911/closure-compiler-unshaded-v20160911.jar\" \"/home/ribelo/.m2/repository/com/google/protobuf/protobuf-java/2.5.0/protobuf-java-2.5.0.jar\" \"/home/ribelo/.m2/repository/org/clojure/core.memoize/0.5.9/core.memoize-0.5.9.jar\" \"/home/ribelo/.m2/repository/org/clojure/data.priority-map/0.0.7/data.priority-map-0.0.7.jar\" \"/home/ribelo/.m2/repository/com/google/code/findbugs/jsr305/1.3.9/jsr305-1.3.9.jar\" \"/home/ribelo/.m2/repository/org/clojure/core.cache/0.6.5/core.cache-0.6.5.jar\" \"/home/ribelo/.gitlibs/libs/ribelo/visby/f487252c6f022ea0c728c1795967e24d3378762c/src/cljc\" \"/home/ribelo/.m2/repository/org/ow2/asm/asm-all/4.2/asm-all-4.2.jar\" \"/home/ribelo/.m2/repository/org/clojure/core.async/0.4.490/core.async-0.4.490.jar\" \"/home/ribelo/.m2/repository/com/fasterxml/jackson/dataformat/jackson-dataformat-smile/2.9.6/jackson-dataformat-smile-2.9.6.jar\" \"/home/ribelo/.m2/repository/com/google/code/gson/gson/2.2.4/gson-2.2.4.jar\"] added to the classpath!"
     ]
    }
   ],
   "source": [
    "/cp {:paths [\"src\" \"env/dev\"],\n",
    " :deps {org.clojure/clojure {:mvn/version \"1.10.0\"},\n",
    "        org.clojure/core.async {:mvn/version \"0.4.490\"},\n",
    "        com.taoensso/encore {:mvn/version \"2.108.1\"},\n",
    "        net.cgrand/xforms {:mvn/version \"0.19.0\"},\n",
    "        clojure.java-time {:mvn/version \"0.3.2\"},\n",
    "        cheshire {:mvn/version \"5.8.1\"}, hiccup {:mvn/version \"1.0.5\"},\n",
    "        ribelo/visby {:git/url \"https://github.com/ribelo/visby\",\n",
    "                      :sha \"f487252c6f022ea0c728c1795967e24d3378762c\"}},\n",
    " :aliases {:dev {:extra-deps {criterium {:mvn/version \"0.4.4\"},\n",
    "                              org.apache.commons/commons-math3\n",
    "                                {:mvn/version \"3.6.1\"}}}}}"
   ]
  },
  {
   "cell_type": "code",
   "execution_count": 28,
   "metadata": {},
   "outputs": [
    {
     "data": {
      "application/octet-stream": null,
      "text/iclojure-html": [
       "<ul><li class='misc'>nil</ul>"
      ],
      "text/plain": [
       "nil\n"
      ]
     },
     "execution_count": 28,
     "metadata": {},
     "output_type": "execute_result"
    }
   ],
   "source": [
    "(ns tmp\n",
    "    (:require [taoensso.encore :as e]\n",
    "              [ribelo.wombat :as wb]\n",
    "              [ribelo.wombat.io :as wio]\n",
    "              [ribelo.wombat.plot :as plt]\n",
    "              [ribelo.wombat.plot.echarts :as echarts]\n",
    "              [hiccup.core :refer [html]]\n",
    "              ))"
   ]
  },
  {
   "cell_type": "code",
   "execution_count": 29,
   "metadata": {},
   "outputs": [
    {
     "data": {
      "text/iclojure-html": [
       "<ul><li class=var>#'tmp/code</ul>"
      ],
      "text/plain": [
       "#'tmp/code\n"
      ]
     },
     "execution_count": 29,
     "metadata": {},
     "output_type": "execute_result"
    }
   ],
   "source": [
    "(def code \"echarts = require(['https://cdnjs.cloudflare.com/ajax/libs/echarts/4.1.0/echarts-en.js'])\")"
   ]
  },
  {
   "cell_type": "code",
   "execution_count": 30,
   "metadata": {
    "scrolled": true
   },
   "outputs": [
    {
     "data": {
      "text/iclojure-html": [
       "<ul><li class=var>#'tmp/tmp-html</ul>"
      ],
      "text/plain": [
       "#'tmp/tmp-html\n"
      ]
     },
     "execution_count": 30,
     "metadata": {},
     "output_type": "execute_result"
    }
   ],
   "source": [
    "(def tmp-html (html [:div \n",
    "                     [:div \"sex1\"]\n",
    ";;                      [:script \"alert('1')\"]\n",
    "                     [:script code]\n",
    ";;                      [:script \"alert('2')\"]\n",
    "                     [:div \"sex2\"]]))"
   ]
  },
  {
   "cell_type": "code",
   "execution_count": 32,
   "metadata": {},
   "outputs": [
    {
     "data": {
      "application/octet-stream": null,
      "text/iclojure-html": [
       "<ul><li class=seq>(<ul><li class='misc'>0<li class=space> <li class='misc'>1<li class=space> <li class='misc'>2<li class=space> <li class='misc'>3<li class=space> <li class='misc'>4<li class=space> <li class='misc'>5<li class=space> <li class='misc'>6<li class=space> <li class='misc'>7<li class=space> <li class='misc'>8<li class=space> <li class='misc'>9<li class=space> <li class=elision data-expr='(unrepl.repl$p8QhJwTpu2S19yqqZbyXWLOYcI8/fetch :G__6835)'>…<li class=trail>)</ul></ul>"
      ],
      "text/plain": [
       "\u001b[2m(\u001b[22m0 1 2 3 4 5 6 7 8 9 \u001b[4m/12\u001b[m\u001b[2m)\u001b[22m\n"
      ]
     },
     "execution_count": 32,
     "metadata": {},
     "output_type": "execute_result"
    }
   ],
   "source": [
    "(range 10000)"
   ]
  },
  {
   "cell_type": "code",
   "execution_count": 34,
   "metadata": {},
   "outputs": [],
   "source": [
    "#unrepl/mime {:content-type \"text/html\" \n",
    "              :content tmp-html}"
   ]
  },
  {
   "cell_type": "code",
   "execution_count": 13,
   "metadata": {},
   "outputs": [],
   "source": [
    "#unrepl/mime {:content-type \"text/html\" :content \"<div>asldkja aslkdjla alskdjla asldkjlkjlas aslkdjlkjasd asdlkjlaaaaaaaaaaaaaaaaaaaaaaaaaasd</div>\"}"
   ]
  },
  {
   "cell_type": "code",
   "execution_count": 16,
   "metadata": {},
   "outputs": [
    {
     "data": {
      "application/vnd.vegalite.v2+json": {
       "$schema": "https://vega.github.io/schema/vega-lite/v2.json",
       "data": {
        "values": [
         {
          "a": "A",
          "b": 28
         },
         {
          "a": "B",
          "b": 55
         },
         {
          "a": "C",
          "b": 43
         },
         {
          "a": "D",
          "b": 91
         },
         {
          "a": "E",
          "b": 81
         },
         {
          "a": "F",
          "b": 53
         },
         {
          "a": "G",
          "b": 19
         },
         {
          "a": "H",
          "b": 87
         },
         {
          "a": "I",
          "b": 52
         }
        ]
       },
       "description": "A simple bar chart with embedded data.",
       "encoding": {
        "x": {
         "field": "a",
         "type": "ordinal"
        },
        "y": {
         "field": "b",
         "type": "quantitative"
        }
       },
       "mark": "bar"
      },
      "image/png": "[encoded data removed]",
      "text/iclojure-html": [
       "<ul><li class=taglit>#<ul><li class=symbol>unrepl/mime<li class=map>{<ul><li><ul><li class=keyword>:content-type<li class=space> <li class='string'>\"application/vnd.vegalite.v2+json\"<li class=trail>,</ul><li class=space> <li><ul><li class=keyword>:content<li class=space> <li class=map>{<ul><li><ul><li class='string'>\"$schema\"<li class=space> <li class='string'>\"https://vega.github.io/schema/vega-lite/v2.json\"<li class=trail>,</ul><li class=space> <li><ul><li class='string'>\"description\"<li class=space> <li class='string'>\"A simple bar chart with embedded data.\"<li class=trail>,</ul><li class=space> <li><ul><li class='string'>\"data\"<li class=space> <li class=map>{<ul><li><ul><li class='string'>\"values\"<li class=space> <li class=vector>[<ul><li class=map>{<ul><li><ul><li class='string'>\"a\"<li class=space> <li class='string'>\"A\"<li class=trail>,</ul><li class=space> <li><ul><li class='string'>\"b\"<li class=space> <li class='misc'>28</ul><li class=trail>}</ul><li class=space> <li class=map>{<ul><li><ul><li class='string'>\"a\"<li class=space> <li class='string'>\"B\"<li class=trail>,</ul><li class=space> <li><ul><li class='string'>\"b\"<li class=space> <li class='misc'>55</ul><li class=trail>}</ul><li class=space> <li class=map>{<ul><li><ul><li class='string'>\"a\"<li class=space> <li class='string'>\"C\"<li class=trail>,</ul><li class=space> <li><ul><li class='string'>\"b\"<li class=space> <li class='misc'>43</ul><li class=trail>}</ul><li class=space> <li class=map>{<ul><li><ul><li class='string'>\"a\"<li class=space> <li class='string'>\"D\"<li class=trail>,</ul><li class=space> <li><ul><li class='string'>\"b\"<li class=space> <li class='misc'>91</ul><li class=trail>}</ul><li class=space> <li class=map>{<ul><li><ul><li class='string'>\"a\"<li class=space> <li class='string'>\"E\"<li class=trail>,</ul><li class=space> <li><ul><li class='string'>\"b\"<li class=space> <li class='misc'>81</ul><li class=trail>}</ul><li class=space> <li class=map>{<ul><li><ul><li class='string'>\"a\"<li class=space> <li class='string'>\"F\"<li class=trail>,</ul><li class=space> <li><ul><li class='string'>\"b\"<li class=space> <li class='misc'>53</ul><li class=trail>}</ul><li class=space> <li class=map>{<ul><li><ul><li class='string'>\"a\"<li class=space> <li class='string'>\"G\"<li class=trail>,</ul><li class=space> <li><ul><li class='string'>\"b\"<li class=space> <li class='misc'>19</ul><li class=trail>}</ul><li class=space> <li class=map>{<ul><li><ul><li class='string'>\"a\"<li class=space> <li class='string'>\"H\"<li class=trail>,</ul><li class=space> <li><ul><li class='string'>\"b\"<li class=space> <li class='misc'>87</ul><li class=trail>}</ul><li class=space> <li class=map>{<ul><li><ul><li class='string'>\"a\"<li class=space> <li class='string'>\"I\"<li class=trail>,</ul><li class=space> <li><ul><li class='string'>\"b\"<li class=space> <li class='misc'>52</ul><li class=trail>}</ul><li class=trail>]</ul></ul><li class=trail>}</ul><li class=trail>,</ul><li class=space> <li><ul><li class='string'>\"mark\"<li class=space> <li class='string'>\"bar\"<li class=trail>,</ul><li class=space> <li><ul><li class='string'>\"encoding\"<li class=space> <li class=map>{<ul><li><ul><li class='string'>\"x\"<li class=space> <li class=map>{<ul><li><ul><li class='string'>\"field\"<li class=space> <li class='string'>\"a\"<li class=trail>,</ul><li class=space> <li><ul><li class='string'>\"type\"<li class=space> <li class='string'>\"ordinal\"</ul><li class=trail>}</ul><li class=trail>,</ul><li class=space> <li><ul><li class='string'>\"y\"<li class=space> <li class=map>{<ul><li><ul><li class='string'>\"field\"<li class=space> <li class='string'>\"b\"<li class=trail>,</ul><li class=space> <li><ul><li class='string'>\"type\"<li class=space> <li class='string'>\"quantitative\"</ul><li class=trail>}</ul></ul><li class=trail>}</ul></ul><li class=trail>}</ul></ul><li class=trail>}</ul></ul></ul>"
      ],
      "text/plain": [
       "#unrepl/mime\n",
       "  \u001b[2m{\u001b[22m\u001b[36m:content-type\u001b[m \"application/vnd.vegalite.v2+json\"\u001b[2m,\u001b[22m\n",
       "   \u001b[36m:content\u001b[m\n",
       "     \u001b[2m{\u001b[22m\"$schema\" \"https://vega.github.io/schema/vega-lite/v2.json\"\u001b[2m,\u001b[22m\n",
       "      \"description\" \"A simple bar chart with embedded data.\"\u001b[2m,\u001b[22m\n",
       "      \"data\" \u001b[2m{\u001b[22m\"values\" \u001b[2m[\u001b[22m\u001b[2m{\u001b[22m\"a\" \"A\"\u001b[2m,\u001b[22m \"b\" 28\u001b[2m}\u001b[22m \u001b[2m{\u001b[22m\"a\" \"B\"\u001b[2m,\u001b[22m \"b\" 55\u001b[2m}\u001b[22m \u001b[2m{\u001b[22m\"a\" \"C\"\u001b[2m,\u001b[22m \"b\" 43\u001b[2m}\u001b[22m\n",
       "                        \u001b[2m{\u001b[22m\"a\" \"D\"\u001b[2m,\u001b[22m \"b\" 91\u001b[2m}\u001b[22m \u001b[2m{\u001b[22m\"a\" \"E\"\u001b[2m,\u001b[22m \"b\" 81\u001b[2m}\u001b[22m\n",
       "                        \u001b[2m{\u001b[22m\"a\" \"F\"\u001b[2m,\u001b[22m \"b\" 53\u001b[2m}\u001b[22m \u001b[2m{\u001b[22m\"a\" \"G\"\u001b[2m,\u001b[22m \"b\" 19\u001b[2m}\u001b[22m\n",
       "                        \u001b[2m{\u001b[22m\"a\" \"H\"\u001b[2m,\u001b[22m \"b\" 87\u001b[2m}\u001b[22m \u001b[2m{\u001b[22m\"a\" \"I\"\u001b[2m,\u001b[22m \"b\" 52\u001b[2m}\u001b[22m\u001b[2m]\u001b[22m\u001b[2m}\u001b[22m\u001b[2m,\u001b[22m\n",
       "      \"mark\" \"bar\"\u001b[2m,\u001b[22m \"encoding\" \u001b[2m{\u001b[22m\"x\" \u001b[2m{\u001b[22m\"field\" \"a\"\u001b[2m,\u001b[22m \"type\" \"ordinal\"\u001b[2m}\u001b[22m\u001b[2m,\u001b[22m\n",
       "                                \"y\" \u001b[2m{\u001b[22m\"field\" \"b\"\u001b[2m,\u001b[22m \"type\" \"quantitative\"\u001b[2m}\u001b[22m\u001b[2m}\u001b[22m\u001b[2m}\u001b[22m\u001b[2m}\u001b[22m\n"
      ]
     },
     "execution_count": 16,
     "metadata": {},
     "output_type": "execute_result"
    }
   ],
   "source": [
    "#unrepl/mime {:content-type \"application/vnd.vegalite.v2+json\" :content {\n",
    "        \"$schema\" \"https://vega.github.io/schema/vega-lite/v2.json\",\n",
    "        \"description\" \"A simple bar chart with embedded data.\",\n",
    "        \"data\" {\n",
    "            \"values\" [\n",
    "                {\"a\" \"A\", \"b\" 28}, {\"a\" \"B\", \"b\" 55}, {\"a\" \"C\", \"b\" 43},\n",
    "                {\"a\" \"D\", \"b\" 91}, {\"a\" \"E\", \"b\" 81}, {\"a\" \"F\", \"b\" 53},\n",
    "                {\"a\" \"G\", \"b\" 19}, {\"a\" \"H\", \"b\" 87}, {\"a\" \"I\", \"b\" 52}\n",
    "            ]\n",
    "        },\n",
    "        \"mark\" \"bar\",\n",
    "        \"encoding\" {\n",
    "            \"x\" {\"field\" \"a\", \"type\" \"ordinal\"},\n",
    "            \"y\" {\"field\" \"b\", \"type\" \"quantitative\"}\n",
    "        }}}"
   ]
  }
 ],
 "metadata": {
  "kernelspec": {
   "display_name": "IClojure",
   "language": "iclojure",
   "name": "iclojure"
  },
  "language_info": {
   "file_extension": ".clj",
   "mimetype": "text/x-clojure",
   "name": "clojure",
   "version": "1.10.0"
  }
 },
 "nbformat": 4,
 "nbformat_minor": 2
}
