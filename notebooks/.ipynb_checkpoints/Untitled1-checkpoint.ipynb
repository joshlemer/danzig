{
 "cells": [
  {
   "cell_type": "code",
   "execution_count": 15,
   "metadata": {},
   "outputs": [
    {
     "name": "stdout",
     "output_type": "stream",
     "text": [
      "Successfully connected!"
     ]
    }
   ],
   "source": [
    "/connect localhost:5555"
   ]
  },
  {
   "cell_type": "code",
   "execution_count": 16,
   "metadata": {},
   "outputs": [
    {
     "data": {
      "application/octet-stream": null,
      "text/iclojure-html": [
       "<ul><li class='misc'>nil</ul>"
      ],
      "text/plain": [
       "nil\n"
      ]
     },
     "execution_count": 16,
     "metadata": {},
     "output_type": "execute_result"
    }
   ],
   "source": [
    "(ns tmp\n",
    "    (:require [taoensso.encore :as e]\n",
    "              [ribelo.wombat.io :as wio]\n",
    "              [ribelo.wombat.plot :as plt]\n",
    "              [ribelo.wombat.plot.echarts :as echarts]\n",
    "              [hiccup.core :refer [html]]\n",
    "              ))"
   ]
  },
  {
   "cell_type": "code",
   "execution_count": 51,
   "metadata": {},
   "outputs": [
    {
     "data": {
      "text/iclojure-html": [
       "<ul><li class=var>#'tmp/code</ul>"
      ],
      "text/plain": [
       "#'tmp/code\n"
      ]
     },
     "execution_count": 51,
     "metadata": {},
     "output_type": "execute_result"
    }
   ],
   "source": [
    "(def code \"echarts = require(['https://cdnjs.cloudflare.com/ajax/libs/echarts/4.1.0/echarts-en.js'])\")"
   ]
  },
  {
   "cell_type": "code",
   "execution_count": 95,
   "metadata": {},
   "outputs": [
    {
     "data": {
      "text/iclojure-html": [
       "<ul><li class=var>#'tmp/code</ul>"
      ],
      "text/plain": [
       "#'tmp/code\n"
      ]
     },
     "execution_count": 95,
     "metadata": {},
     "output_type": "execute_result"
    }
   ],
   "source": [
    "(def code \"alert('sex');\")"
   ]
  },
  {
   "cell_type": "code",
   "execution_count": 10,
   "metadata": {},
   "outputs": [
    {
     "data": {
      "text/iclojure-html": [
       "<ul><li class=var>#'tmp/code</ul>"
      ],
      "text/plain": [
       "#'tmp/code\n"
      ]
     },
     "execution_count": 10,
     "metadata": {},
     "output_type": "execute_result"
    }
   ],
   "source": [
    "(def code \"https://cdnjs.cloudflare.com/ajax/libs/echarts/4.1.0/echarts-en\")"
   ]
  },
  {
   "cell_type": "code",
   "execution_count": 60,
   "metadata": {
    "scrolled": true
   },
   "outputs": [
    {
     "data": {
      "text/iclojure-html": [
       "<ul><li class=var>#'tmp/tmp-html</ul>"
      ],
      "text/plain": [
       "#'tmp/tmp-html\n"
      ]
     },
     "execution_count": 60,
     "metadata": {},
     "output_type": "execute_result"
    }
   ],
   "source": [
    "(def tmp-html (html [:div \n",
    "                     [:div \"sex1\"]\n",
    "                     [:a]\n",
    "                     [:script \"echarts = require(['https://cdnjs.cloudflare.com/ajax/libs/echarts/4.1.0/echarts-en.js'])\"]\n",
    "                     [:div \"sex2\"]]))"
   ]
  },
  {
   "cell_type": "code",
   "execution_count": 61,
   "metadata": {},
   "outputs": [
    {
     "data": {
      "text/iclojure-html": [
       "<ul><li class=string>\"<ul><li>&lt;div&gt;&lt;div&gt;sex1&lt;/div&gt;&lt;script&gt;echarts = require(['https://cdnjs.cloudflare.com/aja<li class=elision data-expr='(unrepl.repl$p8QhJwTpu2S19yqqZbyXWLOYcI8/fetch :G__6912)'>…<li class=trail>\"</ul></ul>"
      ],
      "text/plain": [
       "\"<div><div>sex1</div><script>echarts = require(['https://cdnjs.cloudflare.com/aja\"\u001b[4m/23\u001b[m\n"
      ]
     },
     "execution_count": 61,
     "metadata": {},
     "output_type": "execute_result"
    }
   ],
   "source": [
    "tmp-html"
   ]
  },
  {
   "cell_type": "code",
   "execution_count": 62,
   "metadata": {},
   "outputs": [],
   "source": [
    "#unrepl/mime {:content-type \"text/html\" :content tmp-html}"
   ]
  },
  {
   "cell_type": "code",
   "execution_count": 5,
   "metadata": {},
   "outputs": [
    {
     "data": {
      "text/iclojure-html": [
       "<ul><li class=var>#'user/tmp</ul>"
      ],
      "text/plain": [
       "#'user/tmp\n"
      ]
     },
     "execution_count": 5,
     "metadata": {},
     "output_type": "execute_result"
    }
   ],
   "source": [
    "(defn tmp []\n",
    "    #unrepl/mime {:content-type \"text/html\" :content \"<h1>Hello <i>#unrep</i></h1>\"})"
   ]
  },
  {
   "cell_type": "code",
   "execution_count": 12,
   "metadata": {},
   "outputs": [
    {
     "data": {
      "application/octet-stream": null,
      "text/iclojure-html": [
       "<ul><li class='misc'>2</ul>"
      ],
      "text/plain": [
       "2\n"
      ]
     },
     "execution_count": 12,
     "metadata": {},
     "output_type": "execute_result"
    }
   ],
   "source": [
    "(+ 1 1)"
   ]
  }
 ],
 "metadata": {
  "kernelspec": {
   "display_name": "IClojure",
   "language": "iclojure",
   "name": "iclojure"
  },
  "language_info": {
   "file_extension": ".clj",
   "mimetype": "text/x-clojure",
   "name": "clojure",
   "version": "1.10.0"
  }
 },
 "nbformat": 4,
 "nbformat_minor": 2
}
