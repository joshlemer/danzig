{
 "cells": [
  {
   "cell_type": "code",
   "execution_count": 6,
   "metadata": {},
   "outputs": [
    {
     "name": "stderr",
     "output_type": "stream",
     "text": [
      "Execution error (FileNotFoundException) at tmp/eval5352$loading (REPL:1).\n",
      "Could not locate ribelo/wombat/io__init.class, ribelo/wombat/io.clj or ribelo/wombat/io.cljc on classpath.\n"
     ]
    },
    {
     "ename": "class java.io.FileNotFoundException",
     "evalue": "",
     "output_type": "error",
     "traceback": [
      "Stacktrace disabled (enable using 'clojupyter.misc.stacktrace/set-print-stacktraces!')."
     ]
    }
   ],
   "source": [
    "(ns tmp\n",
    "    (:require [taoensso.encore :as e]\n",
    "              [ribelo.wombat.io :as wio]))"
   ]
  },
  {
   "cell_type": "code",
   "execution_count": 5,
   "metadata": {},
   "outputs": [
    {
     "data": {
      "text/plain": [
       "0"
      ]
     },
     "execution_count": 5,
     "metadata": {},
     "output_type": "execute_result"
    }
   ],
   "source": [
    "(e/round0 0.25)"
   ]
  }
 ],
 "metadata": {
  "kernelspec": {
   "display_name": "Clojure (clojupyter)",
   "language": "clojure",
   "name": "clojure"
  },
  "language_info": {
   "file_extension": ".clj",
   "mimetype": "text/x-clojure",
   "name": "clojure",
   "version": "1.10.0"
  }
 },
 "nbformat": 4,
 "nbformat_minor": 2
}
