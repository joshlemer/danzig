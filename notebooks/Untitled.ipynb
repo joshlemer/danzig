{
 "cells": [
  {
   "cell_type": "code",
   "execution_count": 2,
   "metadata": {},
   "outputs": [
    {
     "data": {
      "application/vnd.vegalite.v2+json": {
       "$schema": "https://vega.github.io/schema/vega-lite/v2.json",
       "data": {
        "values": [
         {
          "a": "A",
          "b": 28
         },
         {
          "a": "B",
          "b": 55
         },
         {
          "a": "C",
          "b": 43
         },
         {
          "a": "D",
          "b": 91
         },
         {
          "a": "E",
          "b": 81
         },
         {
          "a": "F",
          "b": 53
         },
         {
          "a": "G",
          "b": 19
         },
         {
          "a": "H",
          "b": 87
         },
         {
          "a": "I",
          "b": 52
         }
        ]
       },
       "description": "A simple bar chart with embedded data.",
       "encoding": {
        "x": {
         "field": "a",
         "type": "ordinal"
        },
        "y": {
         "field": "b",
         "type": "quantitative"
        }
       },
       "mark": "bar"
      },
      "text/iclojure-html": [
       "<ul><li class=taglit>#<ul><li class=symbol>unrepl/mime<li class=map>{<ul><li><ul><li class=keyword>:content-type<li class=space> <li class='string'>\"application/vnd.vegalite.v2+json\"<li class=trail>,</ul><li class=space> <li><ul><li class=keyword>:content<li class=space> <li class=map>{<ul><li><ul><li class='string'>\"$schema\"<li class=space> <li class='string'>\"https://vega.github.io/schema/vega-lite/v2.json\"<li class=trail>,</ul><li class=space> <li><ul><li class='string'>\"description\"<li class=space> <li class='string'>\"A simple bar chart with embedded data.\"<li class=trail>,</ul><li class=space> <li><ul><li class='string'>\"data\"<li class=space> <li class=map>{<ul><li><ul><li class='string'>\"values\"<li class=space> <li class=vector>[<ul><li class=map>{<ul><li><ul><li class='string'>\"a\"<li class=space> <li class='string'>\"A\"<li class=trail>,</ul><li class=space> <li><ul><li class='string'>\"b\"<li class=space> <li class='misc'>28</ul><li class=trail>}</ul><li class=space> <li class=map>{<ul><li><ul><li class='string'>\"a\"<li class=space> <li class='string'>\"B\"<li class=trail>,</ul><li class=space> <li><ul><li class='string'>\"b\"<li class=space> <li class='misc'>55</ul><li class=trail>}</ul><li class=space> <li class=map>{<ul><li><ul><li class='string'>\"a\"<li class=space> <li class='string'>\"C\"<li class=trail>,</ul><li class=space> <li><ul><li class='string'>\"b\"<li class=space> <li class='misc'>43</ul><li class=trail>}</ul><li class=space> <li class=map>{<ul><li><ul><li class='string'>\"a\"<li class=space> <li class='string'>\"D\"<li class=trail>,</ul><li class=space> <li><ul><li class='string'>\"b\"<li class=space> <li class='misc'>91</ul><li class=trail>}</ul><li class=space> <li class=map>{<ul><li><ul><li class='string'>\"a\"<li class=space> <li class='string'>\"E\"<li class=trail>,</ul><li class=space> <li><ul><li class='string'>\"b\"<li class=space> <li class='misc'>81</ul><li class=trail>}</ul><li class=space> <li class=map>{<ul><li><ul><li class='string'>\"a\"<li class=space> <li class='string'>\"F\"<li class=trail>,</ul><li class=space> <li><ul><li class='string'>\"b\"<li class=space> <li class='misc'>53</ul><li class=trail>}</ul><li class=space> <li class=map>{<ul><li><ul><li class='string'>\"a\"<li class=space> <li class='string'>\"G\"<li class=trail>,</ul><li class=space> <li><ul><li class='string'>\"b\"<li class=space> <li class='misc'>19</ul><li class=trail>}</ul><li class=space> <li class=map>{<ul><li><ul><li class='string'>\"a\"<li class=space> <li class='string'>\"H\"<li class=trail>,</ul><li class=space> <li><ul><li class='string'>\"b\"<li class=space> <li class='misc'>87</ul><li class=trail>}</ul><li class=space> <li class=map>{<ul><li><ul><li class='string'>\"a\"<li class=space> <li class='string'>\"I\"<li class=trail>,</ul><li class=space> <li><ul><li class='string'>\"b\"<li class=space> <li class='misc'>52</ul><li class=trail>}</ul><li class=trail>]</ul></ul><li class=trail>}</ul><li class=trail>,</ul><li class=space> <li><ul><li class='string'>\"mark\"<li class=space> <li class='string'>\"bar\"<li class=trail>,</ul><li class=space> <li><ul><li class='string'>\"encoding\"<li class=space> <li class=map>{<ul><li><ul><li class='string'>\"x\"<li class=space> <li class=map>{<ul><li><ul><li class='string'>\"field\"<li class=space> <li class='string'>\"a\"<li class=trail>,</ul><li class=space> <li><ul><li class='string'>\"type\"<li class=space> <li class='string'>\"ordinal\"</ul><li class=trail>}</ul><li class=trail>,</ul><li class=space> <li><ul><li class='string'>\"y\"<li class=space> <li class=map>{<ul><li><ul><li class='string'>\"field\"<li class=space> <li class='string'>\"b\"<li class=trail>,</ul><li class=space> <li><ul><li class='string'>\"type\"<li class=space> <li class='string'>\"quantitative\"</ul><li class=trail>}</ul></ul><li class=trail>}</ul></ul><li class=trail>}</ul></ul><li class=trail>}</ul></ul></ul>"
      ],
      "text/plain": [
       "#unrepl/mime\n",
       "  \u001b[2m{\u001b[22m\u001b[36m:content-type\u001b[m \"application/vnd.vegalite.v2+json\"\u001b[2m,\u001b[22m\n",
       "   \u001b[36m:content\u001b[m\n",
       "     \u001b[2m{\u001b[22m\"$schema\" \"https://vega.github.io/schema/vega-lite/v2.json\"\u001b[2m,\u001b[22m\n",
       "      \"description\" \"A simple bar chart with embedded data.\"\u001b[2m,\u001b[22m\n",
       "      \"data\" \u001b[2m{\u001b[22m\"values\" \u001b[2m[\u001b[22m\u001b[2m{\u001b[22m\"a\" \"A\"\u001b[2m,\u001b[22m \"b\" 28\u001b[2m}\u001b[22m \u001b[2m{\u001b[22m\"a\" \"B\"\u001b[2m,\u001b[22m \"b\" 55\u001b[2m}\u001b[22m \u001b[2m{\u001b[22m\"a\" \"C\"\u001b[2m,\u001b[22m \"b\" 43\u001b[2m}\u001b[22m\n",
       "                        \u001b[2m{\u001b[22m\"a\" \"D\"\u001b[2m,\u001b[22m \"b\" 91\u001b[2m}\u001b[22m \u001b[2m{\u001b[22m\"a\" \"E\"\u001b[2m,\u001b[22m \"b\" 81\u001b[2m}\u001b[22m\n",
       "                        \u001b[2m{\u001b[22m\"a\" \"F\"\u001b[2m,\u001b[22m \"b\" 53\u001b[2m}\u001b[22m \u001b[2m{\u001b[22m\"a\" \"G\"\u001b[2m,\u001b[22m \"b\" 19\u001b[2m}\u001b[22m\n",
       "                        \u001b[2m{\u001b[22m\"a\" \"H\"\u001b[2m,\u001b[22m \"b\" 87\u001b[2m}\u001b[22m \u001b[2m{\u001b[22m\"a\" \"I\"\u001b[2m,\u001b[22m \"b\" 52\u001b[2m}\u001b[22m\u001b[2m]\u001b[22m\u001b[2m}\u001b[22m\u001b[2m,\u001b[22m\n",
       "      \"mark\" \"bar\"\u001b[2m,\u001b[22m \"encoding\" \u001b[2m{\u001b[22m\"x\" \u001b[2m{\u001b[22m\"field\" \"a\"\u001b[2m,\u001b[22m \"type\" \"ordinal\"\u001b[2m}\u001b[22m\u001b[2m,\u001b[22m\n",
       "                                \"y\" \u001b[2m{\u001b[22m\"field\" \"b\"\u001b[2m,\u001b[22m \"type\" \"quantitative\"\u001b[2m}\u001b[22m\u001b[2m}\u001b[22m\u001b[2m}\u001b[22m\u001b[2m}\u001b[22m\n"
      ]
     },
     "execution_count": 2,
     "metadata": {},
     "output_type": "execute_result"
    }
   ],
   "source": [
    "#unrepl/mime {:content-type \"application/vnd.vegalite.v2+json\" :content {\n",
    "        \"$schema\" \"https://vega.github.io/schema/vega-lite/v2.json\",\n",
    "        \"description\" \"A simple bar chart with embedded data.\",\n",
    "        \"data\" {\n",
    "            \"values\" [\n",
    "                {\"a\" \"A\", \"b\" 28}, {\"a\" \"B\", \"b\" 55}, {\"a\" \"C\", \"b\" 43},\n",
    "                {\"a\" \"D\", \"b\" 91}, {\"a\" \"E\", \"b\" 81}, {\"a\" \"F\", \"b\" 53},\n",
    "                {\"a\" \"G\", \"b\" 19}, {\"a\" \"H\", \"b\" 87}, {\"a\" \"I\", \"b\" 52}\n",
    "            ]\n",
    "        },\n",
    "        \"mark\" \"bar\",\n",
    "        \"encoding\" {\n",
    "            \"x\" {\"field\" \"a\", \"type\" \"ordinal\"},\n",
    "            \"y\" {\"field\" \"b\", \"type\" \"quantitative\"}\n",
    "        }}}"
   ]
  },
  {
   "cell_type": "code",
   "execution_count": null,
   "metadata": {},
   "outputs": [],
   "source": []
  }
 ],
 "metadata": {
  "kernelspec": {
   "display_name": "IClojure",
   "language": "iclojure",
   "name": "iclojure"
  },
  "language_info": {
   "file_extension": ".clj",
   "mimetype": "text/x-clojure",
   "name": "clojure",
   "version": "1.10.0"
  }
 },
 "nbformat": 4,
 "nbformat_minor": 2
}
